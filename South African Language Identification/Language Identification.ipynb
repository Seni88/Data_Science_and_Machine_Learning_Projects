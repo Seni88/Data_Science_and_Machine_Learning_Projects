{
 "cells": [
  {
   "cell_type": "markdown",
   "id": "9f7aa7c0",
   "metadata": {},
   "source": [
    "# Language Identification"
   ]
  },
  {
   "cell_type": "markdown",
   "id": "cccd4cd9",
   "metadata": {},
   "source": [
    "## Importing Libraries and Datasets"
   ]
  },
  {
   "cell_type": "code",
   "execution_count": 22,
   "id": "0bf85bf2",
   "metadata": {},
   "outputs": [],
   "source": [
    "# Importing Libraries\n",
    "\n",
    "# Libraries for EDA and Visualisation\n",
    "import numpy as np\n",
    "import pandas as pd\n",
    "import matplotlib.pyplot as plt\n",
    "import seaborn as sns\n",
    "import re\n",
    "\n",
    "# Libraries for ML Data Preprocessing\n",
    "from sklearn.preprocessing import LabelEncoder\n",
    "from sklearn.feature_extraction.text import CountVectorizer, TfidfTransformer\n",
    "from sklearn.model_selection import train_test_split\n",
    "\n",
    "# Libraries for Modeling\n",
    "from sklearn.naive_bayes import MultinomialNB\n",
    "from sklearn.svm import LinearSVC\n",
    "\n",
    "# Libraries for Model Evaluation\n",
    "from sklearn.metrics import accuracy_score, f1_score\n",
    "\n",
    "# Pickling models\n",
    "import pickle\n",
    "\n",
    "# Ignoring Warnings\n",
    "import warnings\n",
    "warnings.filterwarnings('ignore')"
   ]
  },
  {
   "cell_type": "code",
   "execution_count": 2,
   "id": "52e9c4d2",
   "metadata": {},
   "outputs": [],
   "source": [
    "# Import the dataset\n",
    "\n",
    "train_df = pd.read_csv('train_set.csv')\n",
    "test_df = pd.read_csv('test_set.csv')"
   ]
  },
  {
   "cell_type": "markdown",
   "id": "38089181",
   "metadata": {},
   "source": [
    "## Exploratory Data Analysis (EDA)"
   ]
  },
  {
   "cell_type": "code",
   "execution_count": 3,
   "id": "1ec3a421",
   "metadata": {},
   "outputs": [
    {
     "data": {
      "text/html": [
       "<div>\n",
       "<style scoped>\n",
       "    .dataframe tbody tr th:only-of-type {\n",
       "        vertical-align: middle;\n",
       "    }\n",
       "\n",
       "    .dataframe tbody tr th {\n",
       "        vertical-align: top;\n",
       "    }\n",
       "\n",
       "    .dataframe thead th {\n",
       "        text-align: right;\n",
       "    }\n",
       "</style>\n",
       "<table border=\"1\" class=\"dataframe\">\n",
       "  <thead>\n",
       "    <tr style=\"text-align: right;\">\n",
       "      <th></th>\n",
       "      <th>lang_id</th>\n",
       "      <th>text</th>\n",
       "    </tr>\n",
       "  </thead>\n",
       "  <tbody>\n",
       "    <tr>\n",
       "      <th>0</th>\n",
       "      <td>xho</td>\n",
       "      <td>umgaqo-siseko wenza amalungiselelo kumaziko ax...</td>\n",
       "    </tr>\n",
       "    <tr>\n",
       "      <th>1</th>\n",
       "      <td>xho</td>\n",
       "      <td>i-dha iya kuba nobulumko bokubeka umsebenzi na...</td>\n",
       "    </tr>\n",
       "    <tr>\n",
       "      <th>2</th>\n",
       "      <td>eng</td>\n",
       "      <td>the province of kwazulu-natal department of tr...</td>\n",
       "    </tr>\n",
       "    <tr>\n",
       "      <th>3</th>\n",
       "      <td>nso</td>\n",
       "      <td>o netefatša gore o ba file dilo ka moka tše le...</td>\n",
       "    </tr>\n",
       "    <tr>\n",
       "      <th>4</th>\n",
       "      <td>ven</td>\n",
       "      <td>khomishini ya ndinganyiso ya mbeu yo ewa maana...</td>\n",
       "    </tr>\n",
       "  </tbody>\n",
       "</table>\n",
       "</div>"
      ],
      "text/plain": [
       "  lang_id                                               text\n",
       "0     xho  umgaqo-siseko wenza amalungiselelo kumaziko ax...\n",
       "1     xho  i-dha iya kuba nobulumko bokubeka umsebenzi na...\n",
       "2     eng  the province of kwazulu-natal department of tr...\n",
       "3     nso  o netefatša gore o ba file dilo ka moka tše le...\n",
       "4     ven  khomishini ya ndinganyiso ya mbeu yo ewa maana..."
      ]
     },
     "execution_count": 3,
     "metadata": {},
     "output_type": "execute_result"
    }
   ],
   "source": [
    "# Viewing the first 5 rows of the Train Dataset\n",
    "\n",
    "train_df.head()"
   ]
  },
  {
   "cell_type": "code",
   "execution_count": 4,
   "id": "3f00fe10",
   "metadata": {},
   "outputs": [
    {
     "data": {
      "text/html": [
       "<div>\n",
       "<style scoped>\n",
       "    .dataframe tbody tr th:only-of-type {\n",
       "        vertical-align: middle;\n",
       "    }\n",
       "\n",
       "    .dataframe tbody tr th {\n",
       "        vertical-align: top;\n",
       "    }\n",
       "\n",
       "    .dataframe thead th {\n",
       "        text-align: right;\n",
       "    }\n",
       "</style>\n",
       "<table border=\"1\" class=\"dataframe\">\n",
       "  <thead>\n",
       "    <tr style=\"text-align: right;\">\n",
       "      <th></th>\n",
       "      <th>index</th>\n",
       "      <th>text</th>\n",
       "    </tr>\n",
       "  </thead>\n",
       "  <tbody>\n",
       "    <tr>\n",
       "      <th>0</th>\n",
       "      <td>1</td>\n",
       "      <td>Mmasepala, fa maemo a a kgethegileng a letlele...</td>\n",
       "    </tr>\n",
       "    <tr>\n",
       "      <th>1</th>\n",
       "      <td>2</td>\n",
       "      <td>Uzakwaziswa ngokufaneleko nakungafuneka eminye...</td>\n",
       "    </tr>\n",
       "    <tr>\n",
       "      <th>2</th>\n",
       "      <td>3</td>\n",
       "      <td>Tshivhumbeo tshi fana na ngano dza vhathu.</td>\n",
       "    </tr>\n",
       "    <tr>\n",
       "      <th>3</th>\n",
       "      <td>4</td>\n",
       "      <td>Kube inja nelikati betingevakala kutsi titsini...</td>\n",
       "    </tr>\n",
       "    <tr>\n",
       "      <th>4</th>\n",
       "      <td>5</td>\n",
       "      <td>Winste op buitelandse valuta.</td>\n",
       "    </tr>\n",
       "  </tbody>\n",
       "</table>\n",
       "</div>"
      ],
      "text/plain": [
       "   index                                               text\n",
       "0      1  Mmasepala, fa maemo a a kgethegileng a letlele...\n",
       "1      2  Uzakwaziswa ngokufaneleko nakungafuneka eminye...\n",
       "2      3         Tshivhumbeo tshi fana na ngano dza vhathu.\n",
       "3      4  Kube inja nelikati betingevakala kutsi titsini...\n",
       "4      5                      Winste op buitelandse valuta."
      ]
     },
     "execution_count": 4,
     "metadata": {},
     "output_type": "execute_result"
    }
   ],
   "source": [
    "# Viewing the first 5 rows of the Test Dataset\n",
    "\n",
    "test_df.head()"
   ]
  },
  {
   "cell_type": "code",
   "execution_count": 5,
   "id": "a636407f",
   "metadata": {},
   "outputs": [
    {
     "data": {
      "text/plain": [
       "(33000, 2)"
      ]
     },
     "execution_count": 5,
     "metadata": {},
     "output_type": "execute_result"
    }
   ],
   "source": [
    "# Viewing the number Columns and Rows\n",
    "\n",
    "train_df.shape"
   ]
  },
  {
   "cell_type": "code",
   "execution_count": 6,
   "id": "5dd423a1",
   "metadata": {},
   "outputs": [
    {
     "name": "stdout",
     "output_type": "stream",
     "text": [
      "<class 'pandas.core.frame.DataFrame'>\n",
      "RangeIndex: 33000 entries, 0 to 32999\n",
      "Data columns (total 2 columns):\n",
      " #   Column   Non-Null Count  Dtype \n",
      "---  ------   --------------  ----- \n",
      " 0   lang_id  33000 non-null  object\n",
      " 1   text     33000 non-null  object\n",
      "dtypes: object(2)\n",
      "memory usage: 515.8+ KB\n"
     ]
    }
   ],
   "source": [
    "# Viewing number of Columns, Null Values and Data Types \n",
    "\n",
    "train_df.info()"
   ]
  },
  {
   "cell_type": "code",
   "execution_count": 7,
   "id": "f431c861",
   "metadata": {},
   "outputs": [
    {
     "data": {
      "text/plain": [
       "lang_id    0\n",
       "text       0\n",
       "dtype: int64"
      ]
     },
     "execution_count": 7,
     "metadata": {},
     "output_type": "execute_result"
    }
   ],
   "source": [
    "# Viewing the total number of Null Values per Columns\n",
    "\n",
    "train_df.isna().sum()"
   ]
  },
  {
   "cell_type": "code",
   "execution_count": 8,
   "id": "d353f4c6",
   "metadata": {},
   "outputs": [
    {
     "name": "stdout",
     "output_type": "stream",
     "text": [
      "There are 11 in total\n",
      "['xho', 'eng', 'nso', 'ven', 'tsn', 'nbl', 'zul', 'ssw', 'tso', 'sot', 'afr']\n"
     ]
    }
   ],
   "source": [
    "# Viewing the different types of languages\n",
    "\n",
    "lang_types = train_df['lang_id'].unique().tolist()\n",
    "\n",
    "print(f'There are {len(lang_types)} in total')\n",
    "print(lang_types)"
   ]
  },
  {
   "cell_type": "code",
   "execution_count": 9,
   "id": "5f0a28c3",
   "metadata": {},
   "outputs": [
    {
     "data": {
      "text/plain": [
       "<seaborn.axisgrid.FacetGrid at 0x19c44adba90>"
      ]
     },
     "execution_count": 9,
     "metadata": {},
     "output_type": "execute_result"
    },
    {
     "data": {
      "image/png": "[encoded data removed]",
      "text/plain": [
       "<Figure size 1200x900 with 11 Axes>"
      ]
     },
     "metadata": {},
     "output_type": "display_data"
    }
   ],
   "source": [
    "# Using a Histogram to view the distribution plots of each Language Type\n",
    "\n",
    "text_hist = train_df.copy()\n",
    "text_hist['words'] = text_hist['text'].apply(lambda text: len(text.split()))\n",
    "\n",
    "fig = sns.FacetGrid(text_hist, col = 'lang_id', col_wrap = 4, hue = 'lang_id')\n",
    "fig.map(sns.histplot, 'words')"
   ]
  },
  {
   "cell_type": "markdown",
   "id": "fd9a323a",
   "metadata": {},
   "source": [
    "## Data Processing & Data Engineering"
   ]
  },
  {
   "cell_type": "code",
   "execution_count": 10,
   "id": "5c27d8f6",
   "metadata": {},
   "outputs": [],
   "source": [
    "# Creating a Function to clean the text data \n",
    "\n",
    "def Data_PreProcessing(data):\n",
    "    list_of_text = []\n",
    "    \n",
    "    for text in data:\n",
    "        text = re.sub(r'[!@#$(),n\"%^*?:;~`0-9]', ' ', text)\n",
    "        \n",
    "        text = re.sub(r'[[]]', ' ', text)\n",
    "        \n",
    "        text = text.lower()\n",
    "        \n",
    "        list_of_text.append(text)\n",
    "        \n",
    "    data = ''.join(list_of_text)\n",
    "    \n",
    "    return data\n",
    "\n",
    "clean_train_df = train_df['text'].apply(lambda x: Data_PreProcessing(x))"
   ]
  },
  {
   "cell_type": "code",
   "execution_count": 11,
   "id": "07b6b2d4",
   "metadata": {},
   "outputs": [],
   "source": [
    "# Using the Label Encoder to turn the Language ID from text to numerical figres that the model can identify\n",
    "\n",
    "le = LabelEncoder()\n",
    "le.fit(train_df['lang_id'])\n",
    "\n",
    "train_df['lang_id'] = le.transform(train_df['lang_id'])"
   ]
  },
  {
   "cell_type": "code",
   "execution_count": 12,
   "id": "8b88898e",
   "metadata": {},
   "outputs": [],
   "source": [
    "# Using the CountVectorizer to turn the text from text to numerical figres that the model can identify\n",
    "\n",
    "cv = CountVectorizer()\n",
    "cv.fit(clean_train_df)\n",
    "\n",
    "X_cv = cv.transform(clean_train_df)"
   ]
  },
  {
   "cell_type": "code",
   "execution_count": 13,
   "id": "0a280d95",
   "metadata": {},
   "outputs": [],
   "source": [
    "# Creating the X and Y Variables\n",
    "\n",
    "X = X_cv\n",
    "y = train_df['lang_id']"
   ]
  },
  {
   "cell_type": "code",
   "execution_count": 14,
   "id": "bc43988d",
   "metadata": {},
   "outputs": [],
   "source": [
    "# Text Feature Extration\n",
    "\n",
    "# Splitting the dataset into 80% Train set and 20% Test Set\n",
    "\n",
    "X_train, X_test, y_train, y_test = train_test_split(X, y, test_size=0.2)"
   ]
  },
  {
   "cell_type": "markdown",
   "id": "fbef95c5",
   "metadata": {},
   "source": [
    "## Modelling"
   ]
  },
  {
   "cell_type": "code",
   "execution_count": 15,
   "id": "60ae3400",
   "metadata": {},
   "outputs": [
    {
     "data": {
      "text/plain": [
       "MultinomialNB()"
      ]
     },
     "execution_count": 15,
     "metadata": {},
     "output_type": "execute_result"
    }
   ],
   "source": [
    "# Initializing the Multinomial Naive Bayes Model and fitting it to the Train Set \n",
    "\n",
    "MN_Naive = MultinomialNB()\n",
    "MN_Naive.fit(X_train, y_train)"
   ]
  },
  {
   "cell_type": "code",
   "execution_count": 16,
   "id": "d2ae3d5c",
   "metadata": {},
   "outputs": [
    {
     "data": {
      "text/plain": [
       "LinearSVC()"
      ]
     },
     "execution_count": 16,
     "metadata": {},
     "output_type": "execute_result"
    }
   ],
   "source": [
    "# Model Generation Using Linear SVC Classifier\n",
    "\n",
    "Linear_SVC = LinearSVC()\n",
    "Linear_SVC.fit(X_train, y_train)"
   ]
  },
  {
   "cell_type": "markdown",
   "id": "218c781a",
   "metadata": {},
   "source": [
    "## Model Predcitions"
   ]
  },
  {
   "cell_type": "code",
   "execution_count": 17,
   "id": "d3cfe996",
   "metadata": {},
   "outputs": [],
   "source": [
    "# Using Multinomial Naive Bayes model to make predictions on the Test Set\n",
    "\n",
    "y_pred_MN_Naive = MN_Naive.predict(X_test)"
   ]
  },
  {
   "cell_type": "code",
   "execution_count": 18,
   "id": "5076adb3",
   "metadata": {},
   "outputs": [],
   "source": [
    "# Using Linear SVC model to make predictions on the Test Set\n",
    "\n",
    "y_pred_Linear_SVC = Linear_SVC.predict(X_test)"
   ]
  },
  {
   "cell_type": "markdown",
   "id": "fdbe498e",
   "metadata": {},
   "source": [
    "## Model Evaluation"
   ]
  },
  {
   "cell_type": "code",
   "execution_count": 19,
   "id": "dff15cdc",
   "metadata": {
    "scrolled": true
   },
   "outputs": [
    {
     "name": "stdout",
     "output_type": "stream",
     "text": [
      "Accuracy Score for the Multinomial Naive Bayes model:  0.9993939393939394\n",
      "F1 Score for the Multinomial Naive Bayes model:  0.9993939278953948\n"
     ]
    }
   ],
   "source": [
    "# Displaying the Accuracy Score and F1 Score of the Multinomial Naive Bayes model\n",
    "\n",
    "ac_MN_Naive = accuracy_score(y_test, y_pred_MN_Naive)\n",
    "f1_MN_Naive = f1_score(y_test, y_pred_MN_Naive, average='weighted')\n",
    "\n",
    "print(\"Accuracy Score for the Multinomial Naive Bayes model: \", ac_MN_Naive)\n",
    "print(\"F1 Score for the Multinomial Naive Bayes model: \", f1_MN_Naive)"
   ]
  },
  {
   "cell_type": "code",
   "execution_count": 20,
   "id": "619617f3",
   "metadata": {},
   "outputs": [
    {
     "name": "stdout",
     "output_type": "stream",
     "text": [
      "Accuracy Score for the Linear SVC model:  0.9962121212121212\n",
      "F1 Score for the Linear SVC model:  0.9962149180406024\n"
     ]
    }
   ],
   "source": [
    "# Displaying the Accuracy Score and F1 Score of the Linear SVC model\n",
    "\n",
    "ac_Linear_SVC = accuracy_score(y_test, y_pred_Linear_SVC)\n",
    "f1_Linear_SVC = f1_score(y_test, y_pred_Linear_SVC, average='weighted')\n",
    "\n",
    "print(\"Accuracy Score for the Linear SVC model: \", ac_Linear_SVC)\n",
    "print(\"F1 Score for the Linear SVC model: \", f1_Linear_SVC)"
   ]
  },
  {
   "cell_type": "markdown",
   "id": "ededeeb0",
   "metadata": {},
   "source": [
    "## Creating Models"
   ]
  },
  {
   "cell_type": "code",
   "execution_count": 23,
   "id": "6e9228b0",
   "metadata": {},
   "outputs": [],
   "source": [
    "# Creating a Multinomial Naive Bayes model pickle file\n",
    "\n",
    "model_save_path = \"Naive_Bayes.pkl\"\n",
    "with open(model_save_path,'wb') as file:\n",
    "    pickle.dump(MN_Naive,file)"
   ]
  },
  {
   "cell_type": "code",
   "execution_count": 24,
   "id": "20dad756",
   "metadata": {},
   "outputs": [],
   "source": [
    "# Creating a Linear SVC model pickle file\n",
    "\n",
    "model_save_path = \"Linear_SVC.pkl\"\n",
    "with open(model_save_path,'wb') as file:\n",
    "    pickle.dump(Linear_SVC,file)"
   ]
  },
  {
   "cell_type": "markdown",
   "id": "c8cba1fc",
   "metadata": {},
   "source": [
    "## Submission to Kaggle"
   ]
  },
  {
   "cell_type": "code",
   "execution_count": 25,
   "id": "fc8fe448",
   "metadata": {},
   "outputs": [],
   "source": [
    "# Using the CountVectorizer to turn the text from text to numerical figres that the model can identify\n",
    "\n",
    "Test_X_cv = cv.transform(test_df['text'])"
   ]
  },
  {
   "cell_type": "code",
   "execution_count": 26,
   "id": "551a47e0",
   "metadata": {},
   "outputs": [
    {
     "name": "stdout",
     "output_type": "stream",
     "text": [
      "['tsn' 'nbl' 'ven' ... 'sot' 'sot' 'nbl']\n"
     ]
    }
   ],
   "source": [
    "# Using Multinomial Naive Bayes model to make predictions on the Test Dataset\n",
    "\n",
    "Test_X_pred_MN_Naive = le.inverse_transform(MN_Naive.predict(Test_X_cv))\n",
    "print(Test_X_pred_MN_Naive)"
   ]
  },
  {
   "cell_type": "code",
   "execution_count": 27,
   "id": "ab97526c",
   "metadata": {},
   "outputs": [],
   "source": [
    "# Saving the prediction results of the Multinomial Naive Bayes model for submission\n",
    "\n",
    "MN_Naive_pred_df = pd.DataFrame(zip(test_df.index, Test_X_pred_MN_Naive), columns=['index', 'lang_id'])\n",
    "MN_Naive_pred_df.to_csv('Naive_Bayes_Model.csv', index = False)"
   ]
  },
  {
   "cell_type": "code",
   "execution_count": 28,
   "id": "be553b07",
   "metadata": {},
   "outputs": [
    {
     "name": "stdout",
     "output_type": "stream",
     "text": [
      "[6 2 8 ... 4 4 5]\n"
     ]
    }
   ],
   "source": [
    "# Using Linear SVC model to make predictions on the Test Dataset\n",
    "\n",
    "Test_X_pred_Linear_SVC = Linear_SVC.predict(Test_X_cv)\n",
    "print(Test_X_pred_Linear_SVC)"
   ]
  },
  {
   "cell_type": "code",
   "execution_count": 29,
   "id": "c47f0a4b",
   "metadata": {},
   "outputs": [],
   "source": [
    "# Saving the prediction results of the Linear SVC model for submission\n",
    "\n",
    "Linear_SVC_pred_df = pd.DataFrame(zip(test_df.index, Test_X_pred_Linear_SVC), columns = ['index', 'lang_id'])\n",
    "Linear_SVC_pred_df.to_csv('SVM_Model.csv', index = False)"
   ]
  }
 ],
 "metadata": {
  "kernelspec": {
   "display_name": "Python 3 (ipykernel)",
   "language": "python",
   "name": "python3"
  },
  "language_info": {
   "codemirror_mode": {
    "name": "ipython",
    "version": 3
   },
   "file_extension": ".py",
   "mimetype": "text/x-python",
   "name": "python",
   "nbconvert_exporter": "python",
   "pygments_lexer": "ipython3",
   "version": "3.9.13"
  }
 },
 "nbformat": 4,
 "nbformat_minor": 5
}
